{
 "cells": [
  {
   "cell_type": "markdown",
   "metadata": {},
   "source": [
    "# Question 1.3:\n",
    "\n",
    "\n",
    "name = [\"Mohan\", \"dash\", \"karam\", \"chandra\",\"gandhi\",\"Bapu\"]\n",
    "do the following operations in this list;"
   ]
  },
  {
   "cell_type": "code",
   "execution_count": 1,
   "metadata": {},
   "outputs": [
    {
     "name": "stdout",
     "output_type": "stream",
     "text": [
      "['freedom_fighter', 'Mohan', 'dash', 'karam', 'chandra', 'gandhi', 'Bapu']\n"
     ]
    }
   ],
   "source": [
    "\"\"\"\n",
    "a) add an element \"freedom_fighter\" in this list at the 0th index.\n",
    "\"\"\"\n",
    "name = [\"Mohan\", \"dash\", \"karam\", \"chandra\",\"gandhi\",\"Bapu\"]\n",
    "name.insert(0, \"freedom_fighter\")\n",
    "print(name)"
   ]
  },
  {
   "cell_type": "code",
   "execution_count": 2,
   "metadata": {},
   "outputs": [
    {
     "name": "stdout",
     "output_type": "stream",
     "text": [
      "8\n"
     ]
    }
   ],
   "source": [
    "\"\"\"\n",
    "b) find the output of the following ,and explain how?\n",
    "\"\"\"\n",
    "name = ['freedom_fighter', 'Bapuji', 'Mohan', 'dash', 'karam', 'chandra', 'gandhi']\n",
    "length1 = len((name[-len(name)+1:-1:2]))\n",
    "length2 = len((name[-len(name)+1:-1]))\n",
    "print(length1+length2)\n",
    "\"\"\"\n",
    "len(name) = 7\n",
    "length1 = len(name[-7+1:-1:2]) = 3\n",
    "length2 = len(name[-7+1:-1]) = 5\n",
    "length1 + length2 = 3 + 5 = 8\n",
    "\"\"\""
   ]
  },
  {
   "cell_type": "code",
   "execution_count": 5,
   "metadata": {},
   "outputs": [
    {
     "name": "stdout",
     "output_type": "stream",
     "text": [
      "['freedom_fighter', 'Bapuji', 'Mohan', 'dash', 'karam', 'chandra', 'gandhi', 'NetaJi', 'Bose']\n"
     ]
    }
   ],
   "source": [
    "\"\"\"\n",
    "c) add two more elements in the name [\"NetaJi\",\"Bose\"] at the end of the list.\n",
    "\"\"\"\n",
    "name1 = [\"NetaJi\",\"Bose\"]\n",
    "for i in name1:\n",
    "    name.append(i)\n",
    "print(name)"
   ]
  },
  {
   "cell_type": "code",
   "execution_count": 7,
   "metadata": {},
   "outputs": [
    {
     "name": "stdout",
     "output_type": "stream",
     "text": [
      "['Mohan', 'dash', 'karam', 'chandra', 'gandi', 'Bapuji']\n",
      "Mohan\n"
     ]
    }
   ],
   "source": [
    "\"\"\"\n",
    "d) what will be the value of temp:\n",
    "\"\"\"\n",
    "name = [\"Bapuji\", \"dash\", \"karam\", \"chandra\",\"gandi\",\"Mohan\"]\n",
    "temp=name[-1] # temp holds the last value of the list; \"Mohan\".\n",
    "name[-1]=name[0] # last element of the list is replaced by the first list.\n",
    "name[0]=temp # value of them is assigned to the first value of the list.\n",
    "print(name)\n",
    "print(temp)\n"
   ]
  },
  {
   "cell_type": "code",
   "execution_count": 8,
   "metadata": {},
   "outputs": [
    {
     "name": "stdout",
     "output_type": "stream",
     "text": [
      "2\n",
      "4\n",
      "7\n"
     ]
    }
   ],
   "source": [
    "\"\"\"\n",
    "Question 1.4.Find the output of the following.\n",
    "\"\"\"\n",
    "animal = ['Human','cat','mat','cat','rat','Human', 'Lion']\n",
    "print(animal.count('Human'))\n",
    "print(animal.index('rat'))\n",
    "print(len(animal))"
   ]
  },
  {
   "cell_type": "code",
   "execution_count": 13,
   "metadata": {},
   "outputs": [
    {
     "name": "stdout",
     "output_type": "stream",
     "text": [
      "8\n",
      "Navneet\n",
      "1\n",
      "ji\n",
      "22\n"
     ]
    }
   ],
   "source": [
    "\"\"\"\n",
    "Question 1.5. \n",
    "\"\"\"\n",
    "tuple1=(10,20,\"Apple\",3.4,'a',[\"master\",\"ji\"],(\"sita\",\"geeta\",22),[{\"roll_no\":1},\n",
    "{\"name\":\"Navneet\"}])\n",
    "print(len(tuple1))\n",
    "print(tuple1[-1][-1][\"name\"])\n",
    "# fetch the value of roll_no from this tuple.\n",
    "print(tuple1[-1][0][\"roll_no\"])\n",
    "print(tuple1[-3][1])\n",
    "# fetch the element \"22\" from this tuple.\n",
    "print(tuple1[-2][-1])"
   ]
  },
  {
   "cell_type": "code",
   "execution_count": 16,
   "metadata": {},
   "outputs": [
    {
     "name": "stdout",
     "output_type": "stream",
     "text": [
      "Yellow-Stay\n"
     ]
    }
   ],
   "source": [
    "\"\"\"\n",
    "1.6. Write a program to display the appropriate message as per the color of signal(RED-Stop/Yellow-Stay/\n",
    "Green-Go) at the road crossing.\n",
    "\"\"\"\n",
    "clr = input(\"Enter signal color: \")\n",
    "if clr.lower() == 'red':\n",
    "    print(\"Red - Stop\")\n",
    "elif clr.lower() == 'yellow':\n",
    "    print(\"Yellow-Stay\")\n",
    "elif clr.lower() == 'green':\n",
    "    print(\"Green-Go\")\n",
    "else:\n",
    "    print(\"Wait for next command due to signal malfunction.\")"
   ]
  },
  {
   "cell_type": "code",
   "execution_count": 19,
   "metadata": {},
   "outputs": [
    {
     "name": "stdout",
     "output_type": "stream",
     "text": [
      "5.0\n"
     ]
    }
   ],
   "source": [
    "\"\"\"\n",
    "1.7. Write a program to create a simple calculator performing only four basic operations(+,-,/,*) .\n",
    "\"\"\"\n",
    "class calculator():\n",
    "    def __init__(self, x, y):\n",
    "        self.x = x\n",
    "        self.y = y\n",
    "    def summ(self):\n",
    "        return self.x + self.y\n",
    "    def minus(self):\n",
    "        return self.x - self.y\n",
    "    def multiply(self):\n",
    "        return self.x * self.y\n",
    "    def div(self):\n",
    "        return self.x / self.y\n",
    "    def div_int(self):\n",
    "        return f\"Quotient: {int(self.x / self.y)}, Remainder: {int(self.x) % (int(self.y))}\"\n",
    "n1 = float(input())\n",
    "n2 = float(input())\n",
    "opr = input(\"input operation: \")\n",
    "calc = calculator(n1, n2)\n",
    "if opr == '+':\n",
    "    print(calc.summ())\n",
    "elif opr == '-':\n",
    "    print(calc.minus())\n",
    "elif opr == '*':\n",
    "    print(calc.multiply())\n",
    "elif opr == '/':\n",
    "    print(calc.div())\n",
    "elif opr == '%':\n",
    "    print(calc.div_int())"
   ]
  },
  {
   "cell_type": "code",
   "execution_count": 22,
   "metadata": {},
   "outputs": [
    {
     "name": "stdout",
     "output_type": "stream",
     "text": [
      "28\n"
     ]
    }
   ],
   "source": [
    "\"\"\"\n",
    "1.8. Write a program to find the larger of the three pre-specified numbers using ternary operators.\n",
    "\"\"\"\n",
    "from functools import reduce\n",
    "lst = []\n",
    "for i in range(3):\n",
    "    val = int(input())\n",
    "    lst.append(val)\n",
    "max_val = reduce(lambda x, y: x if x > y else y, lst)\n",
    "print(max_val)"
   ]
  },
  {
   "cell_type": "code",
   "execution_count": 28,
   "metadata": {},
   "outputs": [
    {
     "name": "stdout",
     "output_type": "stream",
     "text": [
      "Factors of 18: [1, 2, 3, 6, 9, 18]\n"
     ]
    }
   ],
   "source": [
    "\"\"\"\n",
    "1.9. Write a program to find the factors of a whole number using a while loop.\n",
    "\"\"\"\n",
    "fact = []\n",
    "num = int(input())\n",
    "i = 1\n",
    "while i<=num:\n",
    "    if num % i == 0:\n",
    "        fact.append(i)\n",
    "    i += 1\n",
    "print(f\"Factors of {num}: {fact}\")"
   ]
  },
  {
   "cell_type": "code",
   "execution_count": 2,
   "metadata": {},
   "outputs": [
    {
     "name": "stdout",
     "output_type": "stream",
     "text": [
      "45\n"
     ]
    }
   ],
   "source": [
    "\"\"\"\n",
    "1.10. Write a program to find the sum of all the positive numbers entered by the user. As soon as the user\n",
    "enters a negative number, stop taking in any further input from the user and display the sum .\n",
    "\"\"\"\n",
    "summ = 0\n",
    "i = 0\n",
    "while i >= 0:\n",
    "    summ += i\n",
    "    k = int(input())\n",
    "    i = k\n",
    "print(summ)\n"
   ]
  },
  {
   "cell_type": "code",
   "execution_count": 16,
   "metadata": {},
   "outputs": [
    {
     "name": "stdout",
     "output_type": "stream",
     "text": [
      "[2, 3, 5, 7, 11, 13, 17, 19, 23, 29, 31, 37, 41, 43, 47, 53, 59, 61, 67, 71, 73, 79, 83, 89, 97]\n"
     ]
    }
   ],
   "source": [
    "\"\"\"\n",
    "1.11. Write a program to find prime numbers between 2 to 100 using nested for loops.\n",
    "\"\"\"\n",
    "primes =[]\n",
    "\n",
    "for i in range(2,101):\n",
    "    for j in range(2,101):\n",
    "        if i%j == 0:\n",
    "            break\n",
    "    if i == j:\n",
    "        primes.append(i)\n",
    "print(primes)"
   ]
  },
  {
   "cell_type": "code",
   "execution_count": 18,
   "metadata": {},
   "outputs": [
    {
     "name": "stdout",
     "output_type": "stream",
     "text": [
      "beng: 62\n",
      "eng: 73\n",
      "sci: 89\n",
      "maths: 98\n",
      "s.st: 79\n",
      "Grand total: 401\n",
      "Percentage: 80.2\n",
      "Grade: B\n"
     ]
    }
   ],
   "source": [
    "\"\"\"\n",
    "1.12. Write the programs for the following:\n",
    "Accept the marks of the student in five major subjects and display the same?\n",
    "Calculate the sum of the marks of all subjects.Divide the total marks by number of subjects (i.e. 5), calculate\n",
    "percentage = total marks/5 and display the percentage?\n",
    "Find the grade of the student as per the following criteria . Hint: Use Match & case for this.:\n",
    "%age >= 85 - A\n",
    "%age < 85 & %age >= 75 - B\n",
    "%age < 75 & %age >= 50 - C\n",
    "%age < 50 & %age >= 30 - D\n",
    "%age < 30 - reappear.\n",
    "\"\"\"\n",
    "subjects = []\n",
    "marks_obtained = []\n",
    "total_marks = 0\n",
    "for i in range(5):\n",
    "    sub = input(\"Subject name: \")\n",
    "    marks = int(input(\"Marks: \"))\n",
    "    subjects.append(sub)\n",
    "    marks_obtained.append(marks)\n",
    "    print(f\"{subjects[i]}: {marks_obtained[i]}\")\n",
    "    total_marks += marks\n",
    "percentage = total_marks / 5\n",
    "print(f\"Grand total: {total_marks}\")\n",
    "print(f\"Percentage: {percentage}\")\n",
    "if percentage >= 85:\n",
    "    print(\"Grade: A\")\n",
    "elif percentage < 85 and percentage >= 75:\n",
    "    print(\"Grade: B\")\n",
    "elif percentage < 75 and percentage >= 50:\n",
    "    print(\"Grade: C\")\n",
    "elif percentage < 50 and percentage >= 30:\n",
    "    print(\"Grade: D\")\n",
    "else:\n",
    "    print(\"Reappear.\")\n"
   ]
  },
  {
   "cell_type": "code",
   "execution_count": 19,
   "metadata": {},
   "outputs": [
    {
     "name": "stdout",
     "output_type": "stream",
     "text": [
      "Color: Green\n"
     ]
    }
   ],
   "source": [
    "\"\"\"\n",
    "Database Operations\"1.13. Write a program for VIBGYOR Spectrum base+ on their Wavelength using.\n",
    "Wavelength Range:\n",
    "\"\"\"\n",
    "wv = float(input(\"Wave length: \"))\n",
    "if wv >= 400 and wv < 440:\n",
    "    print(\"Color: Violet\")\n",
    "elif wv >= 440 and wv < 460:\n",
    "    print(\"Color: Indigo\")\n",
    "elif wv >= 460 and wv < 500:\n",
    "    print(\"Color: Blue\")\n",
    "elif wv >= 500 and wv < 570:\n",
    "    print(\"Color: Green\")\n",
    "elif wv >= 570 and wv < 590:\n",
    "    print(\"Color: Yellow\")\n",
    "elif wv >= 590 and wv <620:\n",
    "    print(\"Color: Orange\")\n",
    "elif wv >= 620 and wv < 720:\n",
    "    print(\"Color: Red\")\n",
    "else:\n",
    "    print(\"Not one of the VIBGYOR colors.\")"
   ]
  },
  {
   "cell_type": "code",
   "execution_count": 23,
   "metadata": {},
   "outputs": [
    {
     "name": "stdout",
     "output_type": "stream",
     "text": [
      "gravitational force between earth and sun: 3.5401138490520182e+22\n",
      "gravitational force between earth and moon: 1.9807456032098324e+20\n",
      "Earth and the Sun are more attracted.\n"
     ]
    }
   ],
   "source": [
    "\"\"\"\n",
    "1.14.Consi+er the gravitational interactions between the Earth, Moon, an+ Sun in our solar system.\n",
    "Given:\n",
    "mass_earth = 5.972 * (10**24) # Mass of Earth in kilograms\n",
    "mass_moon = 7.34767309*(10**22) # Mass of Moon in kilograms\n",
    "mass_sun = 1.989*(10**30) # Mass of Sun in kilograms\n",
    "distance_earth_sun = 1.496*(10**11) # Average distance between Earth and Sun in meters\n",
    "distance_moon_earth = 3.844*(10**8) # Average distance between Moon and Earth in meters\n",
    "Tasks\n",
    "* Calculate the gravitational force between the Earth and the Sun.\n",
    "* Calculate the gravitational force between the Moon and the Earth.\n",
    "* Compare the calculated forces to determine which gravitational force is stronger.\n",
    "* Explain which celestial body (Earth or Moon) is more attracted to the other based on the comparison.\n",
    "\"\"\"\n",
    "mass_earth = 5.972 * (10**24) # Mass of Earth in kilograms\n",
    "mass_moon = 7.34767309*(10**22) # Mass of Moon in kilograms\n",
    "mass_sun = 1.989*(10**30) # Mass of Sun in kilograms\n",
    "distance_earth_sun = 1.496*(10**11) # Average distance between Earth and Sun in meters\n",
    "distance_moon_earth = 3.844*(10**8) # Average distance between Moon and Earth in meters\n",
    "\n",
    "ugc = 6.67*(10**(-11))\n",
    "\n",
    "gravitational_force_earth_sun = ugc * mass_earth * mass_sun / (distance_earth_sun ** 2)\n",
    "gravitational_force_earth_moon = ugc * mass_earth * mass_moon / (distance_moon_earth ** 2)\n",
    "print(f\"gravitational force between earth and sun: {gravitational_force_earth_sun}\")\n",
    "print(f\"gravitational force between earth and moon: {gravitational_force_earth_moon}\")\n",
    "if gravitational_force_earth_sun > gravitational_force_earth_moon:\n",
    "    print(\"Earth and the Sun are more attracted.\")\n",
    "else:\n",
    "    print(\"Earth and moon are more attracted.\")"
   ]
  },
  {
   "cell_type": "code",
   "execution_count": 27,
   "metadata": {},
   "outputs": [
    {
     "name": "stdout",
     "output_type": "stream",
     "text": [
      "Name:  Supriyo\n",
      "Age:  32\n",
      "Roll no:  27\n",
      "Name:  Santanu\n",
      "Age:  32\n",
      "Roll no:  51\n"
     ]
    }
   ],
   "source": [
    "\"\"\"\n",
    "4. Design and implement a Python program for managing student information using object-oriented\n",
    "principles. Create a class called `Student` with encapsulated attributes for name, age, and roll number.\n",
    "Implement getter and setter methods for these attributes. Additionally, provide methods to display student\n",
    "information and update student details.\n",
    "detasils.\n",
    "* Define the `Student` cl7ss with enc7psul7ted 7ttributesY\n",
    "* Implement getter 7nd setter methods for the 7ttributesY\n",
    "* Write methods to displ7y student inform7tion 7nd upd7te det7ilsY\n",
    "* Cre7te inst7nces of the `Student` cl7ss 7nd test the implemented function7lity.\n",
    "\"\"\"\n",
    "class student():\n",
    "    def __init__(self, name, age, roll_no):\n",
    "        self.__name = name\n",
    "        self.__age = age\n",
    "        self.__roll_no = roll_no\n",
    "    @property\n",
    "    def get_details(self):\n",
    "        print(\"Name: \", self.__name)\n",
    "        print(\"Age: \", self.__age)\n",
    "        print(\"Roll no: \", self.__roll_no)\n",
    "    @get_details.setter\n",
    "    def set_name(self, name1):\n",
    "        self.__name = name1\n",
    "        print(\"Name: \", self.__name)\n",
    "    @get_details.setter\n",
    "    def set_age(self, age1):\n",
    "        self._age = age1\n",
    "        print(\"Age: \", self.__age)\n",
    "    @get_details.setter\n",
    "    def set_roll_no(self, roll_no1):\n",
    "        self.__roll_no = roll_no1\n",
    "        print(\"Roll no: \", self.__roll_no)\n",
    "stud1 = student('Supriyo', 32, 27)\n",
    "stud1.get_details\n",
    "stud1.set_name = 'Santanu'\n",
    "stud1.set_age = 33\n",
    "stud1.set_roll_no = 51\n",
    "    \n",
    "        "
   ]
  },
  {
   "cell_type": "code",
   "execution_count": 79,
   "metadata": {},
   "outputs": [],
   "source": [
    "\"\"\"\n",
    "3.Develop a Python program for managing library resources efficiently. Design a class named `LibraryBook`\n",
    "with attributes like book name, author, and availability status. Implement methods for borrowing and\n",
    "returning books while ensuring proper encapsulation of attributes.\n",
    "Tasks:\n",
    "* Create the `LibraryBook` class with encapsulated attributes.\n",
    "* Implement methods for borrowing and returning books.\n",
    "* Ensure proper encapsulation to protect book details.\n",
    "* Test the borrowing and returning functionality with sample data.\n",
    "\"\"\"\n",
    "class LibraryBook():\n",
    "    books = []\n",
    "    __authors = []\n",
    "    __availablity = []\n",
    "    def __init__(self, name, author, availiblity_status = 'Available', action = 'Stocked'):\n",
    "        self.__name = name\n",
    "        self.__author = author\n",
    "        self.__action = action\n",
    "        self.__availiblity_status = availiblity_status\n",
    "        for i in self.books:\n",
    "            if i == self.__name:\n",
    "                break\n",
    "            else:\n",
    "                continue\n",
    "        else:\n",
    "            self.books.append(self.__name)\n",
    "            self.__authors.append(self.__author)\n",
    "            self.__availablity.append(self.__availiblity_status)\n",
    "    @property\n",
    "    def get_details(self):\n",
    "        for i in self.books:\n",
    "            if i == self.__name:\n",
    "                print(\"Name: \", i)\n",
    "                print(\"Author: \", self.__authors[self.books.index(i)])\n",
    "                print(\"Availiblity status: \", self.__availablity[self.books.index(i)])\n",
    "    @get_details.setter\n",
    "    def set_availiblity_status(self, action1):\n",
    "        self.__action = action1\n",
    "        if self.__action.lower() == 'returned':\n",
    "            self.__availiblity_status = 'Available'\n",
    "        elif self.__action.lower() == 'borrowed':\n",
    "            self.__availiblity_status = 'Not Available'\n",
    "        else:\n",
    "            pass\n",
    "        self.__availablity[self.books.index(self.__name)] = self.__availiblity_status  "
   ]
  },
  {
   "cell_type": "code",
   "execution_count": 80,
   "metadata": {},
   "outputs": [
    {
     "name": "stdout",
     "output_type": "stream",
     "text": [
      "Name:  Under the Sea\n",
      "Author:  Karlsen Brook\n",
      "Availiblity status:  Available\n"
     ]
    }
   ],
   "source": [
    "book1 = LibraryBook('Under the Sea', 'Karlsen Brook')\n",
    "book1.get_details"
   ]
  },
  {
   "cell_type": "code",
   "execution_count": 81,
   "metadata": {},
   "outputs": [
    {
     "name": "stdout",
     "output_type": "stream",
     "text": [
      "Name:  Under the Sea\n",
      "Author:  Karlsen Brook\n",
      "Availiblity status:  Not Available\n"
     ]
    }
   ],
   "source": [
    "book1.set_availiblity_status = 'borrowed'\n",
    "book1.get_details"
   ]
  },
  {
   "cell_type": "code",
   "execution_count": 82,
   "metadata": {},
   "outputs": [
    {
     "name": "stdout",
     "output_type": "stream",
     "text": [
      "Name:  Under the Sea\n",
      "Author:  Karlsen Brook\n",
      "Availiblity status:  Available\n"
     ]
    }
   ],
   "source": [
    "book1.set_availiblity_status = 'returned'\n",
    "book1.get_details"
   ]
  },
  {
   "cell_type": "code",
   "execution_count": 83,
   "metadata": {},
   "outputs": [
    {
     "name": "stdout",
     "output_type": "stream",
     "text": [
      "Name:  Two States\n",
      "Author:  Chetan Bhagat\n",
      "Availiblity status:  Available\n"
     ]
    }
   ],
   "source": [
    "book2 = LibraryBook(\"Two States\", \"Chetan Bhagat\")\n",
    "book2.get_details"
   ]
  },
  {
   "cell_type": "code",
   "execution_count": 84,
   "metadata": {},
   "outputs": [
    {
     "name": "stdout",
     "output_type": "stream",
     "text": [
      "Name:  Two States\n",
      "Author:  Chetan Bhagat\n",
      "Availiblity status:  Not Available\n"
     ]
    }
   ],
   "source": [
    "book2.set_availiblity_status = 'borrowed'\n",
    "book2.get_details"
   ]
  },
  {
   "cell_type": "code",
   "execution_count": 85,
   "metadata": {},
   "outputs": [
    {
     "name": "stdout",
     "output_type": "stream",
     "text": [
      "Name:  Two States\n",
      "Author:  Chetan Bhagat\n",
      "Availiblity status:  Not Available\n"
     ]
    }
   ],
   "source": [
    "book3 = LibraryBook(\"Two States\", \"Chetan Bhagat\")\n",
    "book3.get_details"
   ]
  },
  {
   "cell_type": "code",
   "execution_count": null,
   "metadata": {},
   "outputs": [],
   "source": [
    "\"\"\"\n",
    "4.Create a simple banking system using object-oriented concepts in Python. Design classes representing\n",
    "different types of bank accounts such as savings and checking. Implement methods for deposit, withdraw,\n",
    "and balance inquiry. Utilize inheritance to manage different account types efficiently.\n",
    "Tasks:\n",
    "* 1. Define base class(es) for bank accounts with common attributes and methods.\n",
    "* 2. Implement subclasses for specific account types (e.g., SavingsAccount, CheckingAccount).\n",
    "* 3. Provide methods for deposit, withdraw, and balance inquiry in each subclass.\n",
    "* 4. Test the banking system by creating instances of different account types and performing transactions.\n",
    "\"\"\""
   ]
  },
  {
   "cell_type": "code",
   "execution_count": 65,
   "metadata": {},
   "outputs": [],
   "source": [
    "class AccCreate:\n",
    "    def __init__(self, balance):\n",
    "        self.balance = balance\n",
    "class SavingsAccount(AccCreate):\n",
    "    count = 1\n",
    "    def deposit(self, dep):\n",
    "        self.balance += dep\n",
    "    def withdraw(self, witd):\n",
    "        if self.count <= 5:\n",
    "            self.count += 1\n",
    "            if witd <= self.balance:\n",
    "                self.balance -= witd\n",
    "            else:\n",
    "                return \"Insufficient cash.\"\n",
    "        else:\n",
    "            self.balance -= witd\n",
    "            self.balance -= 20\n",
    "            return \"Transaction limit exceeded.\"\n",
    "    def balance_enquiry(self):\n",
    "        return self.balance\n",
    "class CheckingAccount(AccCreate):\n",
    "    def __init__(self, balance):\n",
    "        self.balance = balance\n",
    "    def deposit(self, dep):\n",
    "        self.balance += dep\n",
    "    def withdraw(self, witd):\n",
    "        if witd <= self.balance:\n",
    "            self.balance -= witd\n",
    "        else:\n",
    "            return \"Insufficient cash.\"\n",
    "    def balance_enquiry(self):\n",
    "        return self.balance"
   ]
  },
  {
   "cell_type": "code",
   "execution_count": 69,
   "metadata": {},
   "outputs": [
    {
     "data": {
      "text/plain": [
       "14140"
      ]
     },
     "execution_count": 69,
     "metadata": {},
     "output_type": "execute_result"
    }
   ],
   "source": [
    "acc1 = SavingsAccount(10000)\n",
    "acc1.deposit(5000)\n",
    "for i in range(8):\n",
    "    acc1.withdraw(100)\n",
    "acc1.balance_enquiry()"
   ]
  },
  {
   "cell_type": "code",
   "execution_count": 70,
   "metadata": {},
   "outputs": [
    {
     "data": {
      "text/plain": [
       "9000"
      ]
     },
     "execution_count": 70,
     "metadata": {},
     "output_type": "execute_result"
    }
   ],
   "source": [
    "acc2 = CheckingAccount(20000)\n",
    "acc2.deposit(1000)\n",
    "for i in range(6):\n",
    "    acc2.withdraw(2000)\n",
    "acc2.balance_enquiry()"
   ]
  },
  {
   "cell_type": "code",
   "execution_count": 94,
   "metadata": {},
   "outputs": [],
   "source": [
    "\"\"\"5.Write a Python program that models different animals and their sounds. Design a base class called\n",
    "`Animal` with a method `make_sound()`. Create subclasses like `Dog` and `Cat` that override the\n",
    "`make_sound()` method to produce appropriate sounds.\n",
    "Tasks:\n",
    "* 1. Define the `Animal` class with a method `make_sound()`.\n",
    "* 2. Create subclasses `Dog` and `Cat` that override the `make_sound()` method.\n",
    "* 3. Implement the sound generation logic for each subclass.\n",
    "* 4. Test the progr7m by cre7ting inst7nces of `Dog` and `Cat` and calling the `make_sound()` method.\n",
    "\"\"\"\n",
    "from abc import ABC, abstractmethod\n",
    "\n",
    "class Animal(ABC):\n",
    "    @abstractmethod\n",
    "    def make_sound(self):\n",
    "        pass\n",
    "class Dog(Animal):\n",
    "    def make_sound(self):\n",
    "        print(\"Dog makes sound Woof!\")\n",
    "class Cat(Animal):\n",
    "    def make_sound(self):\n",
    "        print(\"Cat makes sound Meow!\")"
   ]
  },
  {
   "cell_type": "code",
   "execution_count": 95,
   "metadata": {},
   "outputs": [
    {
     "name": "stdout",
     "output_type": "stream",
     "text": [
      "Dog makes sound Woof!\n"
     ]
    }
   ],
   "source": [
    "pet1 = Dog()\n",
    "pet1.make_sound()"
   ]
  },
  {
   "cell_type": "code",
   "execution_count": 96,
   "metadata": {},
   "outputs": [
    {
     "name": "stdout",
     "output_type": "stream",
     "text": [
      "Cat makes sound Meow!\n"
     ]
    }
   ],
   "source": [
    "pet2 = Cat()\n",
    "pet2.make_sound()"
   ]
  },
  {
   "cell_type": "code",
   "execution_count": 97,
   "metadata": {},
   "outputs": [
    {
     "data": {
      "text/plain": [
       "\"\\n6.Write a code for Restaurant Management System Using OOPS/\\n* Create a MenuItem class that has attributes such as name, description, price, and category.\\n* Implement methods to add a new menu item, update menu item information, and remove a menu item\\nfrom the menu.\\n* Use encapsulation to hide the menu item's unique identification number.\\n* Inherit from the MenuItem class to creat, a FoodItem class and a BeverageItem class, each with their own\\nspecific attributes and methods.\\n\""
      ]
     },
     "execution_count": 97,
     "metadata": {},
     "output_type": "execute_result"
    }
   ],
   "source": [
    "\"\"\"\n",
    "6.Write a code for Restaurant Management System Using OOPS/\n",
    "* Create a MenuItem class that has attributes such as name, description, price, and category.\n",
    "* Implement methods to add a new menu item, update menu item information, and remove a menu item\n",
    "from the menu.\n",
    "* Use encapsulation to hide the menu item's unique identification number.\n",
    "* Inherit from the MenuItem class to creat, a FoodItem class and a BeverageItem class, each with their own\n",
    "specific attributes and methods.\n",
    "\"\"\""
   ]
  },
  {
   "cell_type": "code",
   "execution_count": 166,
   "metadata": {},
   "outputs": [],
   "source": [
    "class MenuItem:\n",
    "    Item_name = []\n",
    "    Item_description = []\n",
    "    Item_price = []\n",
    "    Item_category = []\n",
    "    __Item_UIN = []\n",
    "    def __init__(self, name, description = 'abc', category = 'abc', price = 0):\n",
    "        self.name = name\n",
    "        self.description = description\n",
    "        self.category = category\n",
    "        self.price = price\n",
    "        \n",
    "    def add_item(self):\n",
    "        for i in self.Item_name:\n",
    "            if i.lower() == self.name.lower():\n",
    "                break\n",
    "            else:\n",
    "                continue\n",
    "        else:\n",
    "            self.Item_name.append(self.name)\n",
    "            self.Item_description.append(self.description)\n",
    "            self.Item_category.append(self.category)\n",
    "            self.Item_price.append(self.price)\n",
    "            self.__Item_UIN.append(\"Itm00\" + self.name[:2] + self.name[-2:])\n",
    "    def update_item(self, name1, description1, price1, category1):\n",
    "        for i in self.Item_name:\n",
    "            if i.lower() == name1.lower() and self.name.lower() != name1.lower():\n",
    "                break\n",
    "            else:\n",
    "                continue\n",
    "        else:\n",
    "            self.Item_name = list(map(lambda x: x.replace(self.name, name1)))\n",
    "            self.Item_description = list(map(lambda x: x.replace(self.description, description1)))\n",
    "            self.Item_price = list(map(lambda x: x.replace(self.price, price1)))\n",
    "            self.Item_category = list(map(lambda x: x.replace(self.category, category1)))\n",
    "    def remove_item(self):\n",
    "        for i in self.Item_name:\n",
    "            if i.lower() == self.name.lower() and self.Item_description[self.Item_name.index(i)].lower() == self.description.lower() and self.Item_category[self.Item_name.index(i)].lower() == self.category.lower() and self.Item_price[self.Item_name.index(i)].lower() == self.price.lower():\n",
    "                self.Item_name.remove(self.name)\n",
    "                self.Item_category.remove(self.category)\n",
    "                self.Item_description.remove(self.description)\n",
    "                self.Item_price.remove(self.price)\n",
    "                self.__Item_UIN.remove(self.__Item_UIN[self.Item_name.index(self.name)])\n",
    "                \n",
    "class FoodItem(MenuItem):\n",
    "    def GetItemDetails(self):\n",
    "        if self.Item_category[self.Item_name.index(self.name)] == 'food':\n",
    "            print(f\"{self.name} -- {self.Item_category[self.Item_name.index(self.name)]}: {self.Item_price[self.Item_name.index(self.name)]}\")\n",
    "    def Order(self, qty):\n",
    "        print(\"Your order has been placed!!\")\n",
    "        print(f\"{self.name} x {qty} || To pay: {self.Item_price[self.Item_name.index(self.name)] * qty}\")\n",
    "class BeverageItem(MenuItem):\n",
    "    def GetItemDetails(self):\n",
    "        if self.Item_category[self.Item_name.index(self.name)] == 'beverage':\n",
    "            print(f\"{self.name}: {self.Item_category[self.Item_name.index(self.name)]}: {self.Item_price[self.Item_name.index(self.name)]}\")\n",
    "    def Order(self, qty):\n",
    "        print(\"Your order has been placed!!\")\n",
    "        print(f\"{self.name} x {qty} || To pay: {self.Item_price[self.Item_name.index(self.name)] * qty}\")"
   ]
  },
  {
   "cell_type": "code",
   "execution_count": 167,
   "metadata": {},
   "outputs": [],
   "source": [
    "itm1 = MenuItem('Fish Cutlet', 'pure vetki', 'food', 150)\n",
    "itm2 = MenuItem('Chilli Checken', 'boneless checken 8 pc', 'food', 180)\n",
    "itm3 = MenuItem('Paneer Butter Masala', 'big cream paneer cubes 8 pc', 'food', 200)\n",
    "itm4 = MenuItem('Mango Shake', 'ripen alphanso', 'beverage', 150)\n",
    "itm5 = MenuItem('Virgin Mojito', 'mocktail', 'beverage', 220)"
   ]
  },
  {
   "cell_type": "code",
   "execution_count": 168,
   "metadata": {},
   "outputs": [],
   "source": [
    "itm1.add_item()\n",
    "itm2.add_item()\n",
    "itm3.add_item()\n",
    "itm4.add_item()\n",
    "itm5.add_item()"
   ]
  },
  {
   "cell_type": "code",
   "execution_count": 169,
   "metadata": {},
   "outputs": [
    {
     "data": {
      "text/plain": [
       "['Fish Cutlet',\n",
       " 'Chilli Checken',\n",
       " 'Paneer Butter Masala',\n",
       " 'Mango Shake',\n",
       " 'Virgin Mojito']"
      ]
     },
     "execution_count": 169,
     "metadata": {},
     "output_type": "execute_result"
    }
   ],
   "source": [
    "itm1.Item_name"
   ]
  },
  {
   "cell_type": "code",
   "execution_count": 170,
   "metadata": {},
   "outputs": [
    {
     "name": "stdout",
     "output_type": "stream",
     "text": [
      "Chilli Checken -- food: 180\n"
     ]
    }
   ],
   "source": [
    "fmenu = FoodItem('Chilli Checken')\n",
    "fmenu.GetItemDetails()"
   ]
  },
  {
   "cell_type": "code",
   "execution_count": 171,
   "metadata": {},
   "outputs": [
    {
     "name": "stdout",
     "output_type": "stream",
     "text": [
      "Your order has been placed!!\n",
      "Chilli Checken x 3 || To pay: 540\n"
     ]
    }
   ],
   "source": [
    "fmenu.Order(3)"
   ]
  },
  {
   "cell_type": "code",
   "execution_count": 225,
   "metadata": {},
   "outputs": [],
   "source": [
    "\"\"\"\n",
    "7.Write a code for Hotel Management System using OOPS /\n",
    "+ Create a Room class that has attributes such as room number, room type, rate, and availability (private).\n",
    "+ Implement methods to book a room, check in a guest, and check out a guest.\n",
    "+ Use encapsulation to hide the room's unique identification number.\n",
    "+ Inherit from the Room class to create a SuiteRoom class and a StandardRoom class, each with their own\n",
    "specific attributes and methods.\n",
    "\"\"\"\n",
    "class Room:\n",
    "    Room_no = []\n",
    "    Room_type = []\n",
    "    Room_rate = []\n",
    "    __Room_status = []\n",
    "    __Room_UIN = []\n",
    "    \n",
    "    def __init__(self, number , room_type = 0 , rate = 0, availablity = 0):\n",
    "        self.number = number\n",
    "        self.room_type = room_type\n",
    "        self.rate = rate\n",
    "        self.__availablity = availablity\n",
    "    def add_room_details(self):\n",
    "        for i in self.Room_no:\n",
    "            if i == self.number:\n",
    "                break\n",
    "            else:\n",
    "                continue\n",
    "        else:\n",
    "            self.Room_no.append(self.number)\n",
    "            self.Room_type.append(self.room_type)\n",
    "            self.Room_rate.append(self.rate)\n",
    "            self.__Room_status.append(self.__availablity)\n",
    "            self.__Room_UIN.append('R00' + str(self.number))\n",
    "    def book_room(self):\n",
    "        if self.__Room_status[self.Room_no.index(self.number)] == 'booked':\n",
    "            print(\"This room is unavailable\")\n",
    "        else:\n",
    "            print(\"This room is available.\")\n",
    "    def check_in(self):\n",
    "        self.__availablity = 'booked'\n",
    "        self.__Room_status[self.Room_no.index(self.number)] = self.__availablity\n",
    "    def check_out(self):\n",
    "        self.__availablity = 'free'\n",
    "        self.__Room_status[self.Room_no.index(self.number)] = self.__availablity\n",
    "\n",
    "class SuiteRoom(Room):\n",
    "    def room_details(self):\n",
    "        if self.Room_type[self.Room_no.index(self.number)] == 'suite':\n",
    "            print(f\"{self.number} -- suite -- {self.Room_rate[self.Room_no.index(self.number)]}\")\n",
    "        else:\n",
    "            print(\"Your selected room is not suite.\")\n",
    "            for i in self.Room_no:\n",
    "                if self.Room_type[self.Room_no.index(i)] == 'suite':\n",
    "                    print(f\"{i} -- suite -- {self.Room_rate[self.Room_no.index(i)]}\")\n",
    "    def bill(self, night):\n",
    "        print(f\"Bill for {night} night(s): {self.Room_rate[self.Room_no.index(self.number)]}\")\n",
    "class StandardRoom(Room):\n",
    "    def room_details(self):\n",
    "        if self.Room_type[self.Room_no.index(self.number)] == 'standard':\n",
    "            print(f\"{self.number} -- standard -- {self.Room_rate[self.Room_no.index(self.number)]}\")\n",
    "        else:\n",
    "            print(\"Your selected room is not standard.\")\n",
    "            for i in self.Room_no:\n",
    "                if self.Room_type[self.Room_no.index(i)] == 'standard':\n",
    "                    print(f\"{i} -- standard -- {self.Room_rate[self.Room_no.index(i)]}\")\n",
    "    def bill(self, night):\n",
    "        print(f\"Bill for {night} night(s): {self.Room_rate[self.Room_no.index(self.number)]}\")"
   ]
  },
  {
   "cell_type": "code",
   "execution_count": 227,
   "metadata": {},
   "outputs": [],
   "source": [
    "r1 = Room(101, 'suite', 2400, 'free')\n",
    "r2 = Room(102, 'suite', 2900, 'free')\n",
    "r3 = Room(103, 'suite', 2400, 'free')\n",
    "r4 = Room(201, 'standard', 1200, 'free')\n",
    "r5 = Room(202, 'standard', 1700, 'booked')\n",
    "r6 = Room(203, 'standard', 1700, 'free')"
   ]
  },
  {
   "cell_type": "code",
   "execution_count": 228,
   "metadata": {},
   "outputs": [],
   "source": [
    "r1.add_room_details()\n",
    "r2.add_room_details()\n",
    "r3.add_room_details()\n",
    "r4.add_room_details()\n",
    "r5.add_room_details()\n",
    "r6.add_room_details()"
   ]
  },
  {
   "cell_type": "code",
   "execution_count": 229,
   "metadata": {},
   "outputs": [
    {
     "name": "stdout",
     "output_type": "stream",
     "text": [
      "This room is available.\n"
     ]
    }
   ],
   "source": [
    "r3.book_room()"
   ]
  },
  {
   "cell_type": "code",
   "execution_count": 230,
   "metadata": {},
   "outputs": [],
   "source": [
    "su1 = SuiteRoom(102)\n",
    "st1 = StandardRoom(103)"
   ]
  },
  {
   "cell_type": "code",
   "execution_count": 231,
   "metadata": {},
   "outputs": [
    {
     "name": "stdout",
     "output_type": "stream",
     "text": [
      "102 -- suite -- 2900\n"
     ]
    }
   ],
   "source": [
    "su1.room_details()"
   ]
  },
  {
   "cell_type": "code",
   "execution_count": 232,
   "metadata": {},
   "outputs": [
    {
     "name": "stdout",
     "output_type": "stream",
     "text": [
      "This room is unavailable\n"
     ]
    }
   ],
   "source": [
    "su1.check_in()\n",
    "su1.book_room()"
   ]
  },
  {
   "cell_type": "code",
   "execution_count": 233,
   "metadata": {},
   "outputs": [
    {
     "name": "stdout",
     "output_type": "stream",
     "text": [
      "Your selected room is not standard.\n",
      "201 -- standard -- 1200\n",
      "202 -- standard -- 1700\n",
      "203 -- standard -- 1700\n"
     ]
    }
   ],
   "source": [
    "st1.room_details()"
   ]
  },
  {
   "cell_type": "code",
   "execution_count": 265,
   "metadata": {},
   "outputs": [],
   "source": [
    "\"\"\"8.Write a code for Fitness Club Manage6ent System using OOPS/\n",
    "+ Create a Member class that has attributes such as name, age, membership type, and membership status\n",
    "(private).\n",
    "+ Implement methods to register a new member, renew a membership, and cancel a membership.\n",
    "+ Use encapsulation to hide the member's unique identification number.\n",
    "+ Inherit from the Member class to create a FamilyMember class and an IndividualMember class, each with\n",
    "their own specific attributes and methods.\"\"\"\n",
    "\n",
    "class Member:\n",
    "    Member_name = []\n",
    "    Member_age = []\n",
    "    Membership_type = []\n",
    "    __Membership_charge = []\n",
    "    __Membership_status = []\n",
    "    __Member_UIN = []\n",
    "    \n",
    "    def __init__(self, name, age = 0, mem_charge = 0, mem_type = 0, mem_stat = 0):\n",
    "        self.name = name\n",
    "        self.age = age\n",
    "        self.mem_type = mem_type\n",
    "        self.__mem_stat = mem_stat\n",
    "        self.__mem_charge = mem_charge\n",
    "    @property\n",
    "    def get_charge(self):\n",
    "        return self.__Membership_charge\n",
    "    def new_member(self):\n",
    "        if self.__mem_charge >= 6000:\n",
    "            self.__mem_stat = 'enrolled'\n",
    "            if self.__mem_charge < 18000:\n",
    "                self.mem_type = 'General'\n",
    "            elif self.__mem_charge >= 18000 and self.__mem_charge < 48000:\n",
    "                self.mem_type = 'Exclusive'\n",
    "            else:\n",
    "                self.mem_type = 'Royal'\n",
    "            self.Member_name.append(self.name)\n",
    "            self.Member_age.append(self.age)\n",
    "            self.Membership_type.append(self.mem_type)\n",
    "            self.__Membership_status.append(self.__mem_stat)\n",
    "            self.__Membership_charge.append(self.__mem_charge)\n",
    "            self.__Member_UIN.append(\"MEM-\" + self.Membership_type[self.Member_name.index(self.name)][:2] + str(self.Member_name.index(self.name)))\n",
    "        else:\n",
    "            print(\"Enrollment rejected.\")\n",
    "    def renew_membership(self):\n",
    "        for i in self.Member_name:\n",
    "            if i == self.name:\n",
    "                if self.__mem_charge < 6000:\n",
    "                    self.__mem_stat = 'failed'\n",
    "                    print(\"Renewal failed.\")\n",
    "                elif self.__mem_charge >= 6000 and self.__mem_charge < 18000:\n",
    "                    self.Membership_type[self.Member_name.index(self.name)] = 'General'\n",
    "                    self.__Membership_status[self.Member_name.index(self.name)] = 'renewed'\n",
    "                    print(\"Renewal successful.\")\n",
    "                elif self.__mem_charge >= 18000 and self.__mem_charge < 48000:\n",
    "                    self.Membership_type[self.Member_name.index(self.name)] = 'Exclusive'\n",
    "                    self.__Membership_status[self.Member_name.index(self.name)] = 'renewed'\n",
    "                    print(\"Renewal successful.\")\n",
    "                else:\n",
    "                    self.Membership_type[self.Member_name.index(self.name)] = 'Royal'\n",
    "                    self.__Membership_status[self.Member_name.index(self.name)] = 'renewed'\n",
    "                    print(\"Renewal successful.\")\n",
    "                break\n",
    "        else:\n",
    "            print(\"You should enroll first.\")\n",
    "    def cancel_membership(self):\n",
    "        if self.__mem_charge == 0:\n",
    "            self.__Membership_status[self.Member_name.index(self.name)] = 'cancelled'\n",
    "            self.Membership_type[self.Member_name.index(self.name)] = 'None'\n",
    "            print(\"Membership has been cancelled.\")\n",
    "    def Membership_status(self):\n",
    "        for i in self.Member_name:\n",
    "            if i == self.name:\n",
    "                print(f\"{self.name} -- {self.Member_age[self.Member_name.index(self.name)]} -- {self.Membership_type[self.Member_name.index(self.name)]}\")\n",
    "\n",
    "class FamilyMember(Member):\n",
    "    def membership_payment(self):\n",
    "        for i in self.Member_name:\n",
    "            if i == self.name and type(i) == list:\n",
    "                print(f\"To pay: {self.get_charge[self.Member_name.index(self.name)] * len(self.name)}\")\n",
    "                break\n",
    "class IndividualMember(Member):\n",
    "    def membership_payment(self):\n",
    "        for i in self.Member_name:\n",
    "            if i == self.name and type(i) == str:\n",
    "                print(f\"To pay: {self.get_charge[self.Member_name.index(self.name)]}\")\n",
    "                break\n",
    "        "
   ]
  },
  {
   "cell_type": "code",
   "execution_count": 266,
   "metadata": {},
   "outputs": [],
   "source": [
    "mem1 = Member('Prakash', 44, 30000)\n",
    "mem2 = Member('Rakhi', 37, 84000)\n",
    "mem3 = Member('Rahul', 26, 10800)\n",
    "mem4 = Member('Rakhal', 47, 4000)\n",
    "mem5 = Member(['Ayush', 'Aman', 'Kishan'], [31, 31, 32], 15000)\n",
    "mem6 = Member('Krish', 42)"
   ]
  },
  {
   "cell_type": "code",
   "execution_count": 267,
   "metadata": {},
   "outputs": [
    {
     "name": "stdout",
     "output_type": "stream",
     "text": [
      "Enrollment rejected.\n",
      "Enrollment rejected.\n"
     ]
    }
   ],
   "source": [
    "mem1.new_member()\n",
    "mem2.new_member()\n",
    "mem3.new_member()\n",
    "mem4.new_member()\n",
    "mem5.new_member()\n",
    "mem6.new_member()"
   ]
  },
  {
   "cell_type": "code",
   "execution_count": 268,
   "metadata": {},
   "outputs": [
    {
     "name": "stdout",
     "output_type": "stream",
     "text": [
      "Renewal successful.\n",
      "Renewal successful.\n",
      "Renewal successful.\n",
      "You should enroll first.\n",
      "Renewal successful.\n",
      "You should enroll first.\n"
     ]
    }
   ],
   "source": [
    "mem1.renew_membership()\n",
    "mem2.renew_membership()\n",
    "mem3.renew_membership()\n",
    "mem4.renew_membership()\n",
    "mem5.renew_membership()\n",
    "mem6.renew_membership()"
   ]
  },
  {
   "cell_type": "code",
   "execution_count": 269,
   "metadata": {},
   "outputs": [
    {
     "name": "stdout",
     "output_type": "stream",
     "text": [
      "Prakash -- 44 -- Exclusive\n",
      "Rakhi -- 37 -- Royal\n",
      "Rahul -- 26 -- General\n",
      "['Ayush', 'Aman', 'Kishan'] -- [31, 31, 32] -- General\n"
     ]
    }
   ],
   "source": [
    "mem1.Membership_status()\n",
    "mem2.Membership_status()\n",
    "mem3.Membership_status()\n",
    "mem4.Membership_status()\n",
    "mem5.Membership_status()\n",
    "mem6.Membership_status()"
   ]
  },
  {
   "cell_type": "code",
   "execution_count": 270,
   "metadata": {},
   "outputs": [
    {
     "name": "stdout",
     "output_type": "stream",
     "text": [
      "Renewal successful.\n",
      "To pay: 45000\n"
     ]
    }
   ],
   "source": [
    "fm1 =FamilyMember(['Ayush', 'Aman', 'Kishan'], [31, 31, 32], 15000)\n",
    "fm1.renew_membership()\n",
    "fm1.membership_payment()"
   ]
  },
  {
   "cell_type": "code",
   "execution_count": 288,
   "metadata": {},
   "outputs": [],
   "source": [
    "\"\"\"9.Write a code for Event Management System using OOPS/\n",
    "+ Create an Event class that has attributes such as name, date, time, location, and list of attendees (private).\n",
    "+ Implement methods to create a new event, add or remove attendees, and get the total number of\n",
    "attendees.\n",
    "+ Use encapsulation to hide the event's unique identification number.\n",
    "+ Inherit from the Event class to create a PrivateEvent class and a PublicEvent class, each with their own\n",
    "specific attributes and methods.\"\"\"\n",
    "class Event:\n",
    "    def __init__(self, name, date, time, location, attendees):\n",
    "        self.name = name\n",
    "        self.date = date\n",
    "        self.time = time\n",
    "        self.location = location\n",
    "        self.__attendees = attendees\n",
    "        self.__uin = \"EVENT\" + self.name + self.date\n",
    "    @property\n",
    "    def get_attendees(self):\n",
    "        return self.__attendees\n",
    "    @property\n",
    "    def get_UIN(self):\n",
    "        return self.__uin\n",
    "    def new_event(self):\n",
    "        print(f\"Event: {self.name}; Date: {self.date}; Time: {self.time}; Location: {self.location}\")\n",
    "    @get_attendees.setter\n",
    "    def add_attendees(self, new_list):\n",
    "        for i in new_list:\n",
    "            self.__attendees.append(i)\n",
    "    @get_attendees.setter\n",
    "    def remove_attendees(self, remove):\n",
    "        for i in remove:\n",
    "            for j in self.__attendees:\n",
    "                if i == j:\n",
    "                    self.__attendees.remove(j)\n",
    "    def guest_count(self):\n",
    "        return len(self.__attendees)\n",
    "\n",
    "class PrivateEvent(Event):\n",
    "    def restrict_attendees(self):\n",
    "        if self.guest_count() <= 20:\n",
    "            print(\"It is a private event.\")\n",
    "        else:\n",
    "            del self.get_attendees[20:]\n",
    "            print(f\"Guest Count: {self.guest_count()}\")\n",
    "class PublicEvent(Event):\n",
    "    def check_attendees(self):\n",
    "        if self.guest_count() <= 20:\n",
    "            print(\"Please invite more guests to make this public event successful.\")\n",
    "        else:\n",
    "            print(\"Please come to this event and bring your friends as well and enjoy!!!\")\n",
    "    "
   ]
  },
  {
   "cell_type": "code",
   "execution_count": 274,
   "metadata": {},
   "outputs": [],
   "source": [
    "ev1 = Event('Holi', '14-3-2024', '10:00 a.m.', 'Maidan',['Rup', 'Raj', 'Rini', 'Priya', 'Anny', 'Ali', 'Pia', 'Puja', 'Aman', 'Raj', 'KD', 'Roop', 'Moh', 'Dan', 'Bunny', 'Ruks'])"
   ]
  },
  {
   "cell_type": "code",
   "execution_count": 275,
   "metadata": {},
   "outputs": [
    {
     "name": "stdout",
     "output_type": "stream",
     "text": [
      "Event: Holi; Date: 14-3-2024; Time: 10:00 a.m.; Location: Maidan\n"
     ]
    }
   ],
   "source": [
    "ev1.new_event()"
   ]
  },
  {
   "cell_type": "code",
   "execution_count": 276,
   "metadata": {},
   "outputs": [
    {
     "data": {
      "text/plain": [
       "16"
      ]
     },
     "execution_count": 276,
     "metadata": {},
     "output_type": "execute_result"
    }
   ],
   "source": [
    "ev1.guest_count()"
   ]
  },
  {
   "cell_type": "code",
   "execution_count": 279,
   "metadata": {},
   "outputs": [
    {
     "data": {
      "text/plain": [
       "21"
      ]
     },
     "execution_count": 279,
     "metadata": {},
     "output_type": "execute_result"
    }
   ],
   "source": [
    "ev1.add_attendees = ['Rekha', 'Honey', 'Sup', 'Raju', 'Bittu']\n",
    "ev1.guest_count()"
   ]
  },
  {
   "cell_type": "code",
   "execution_count": 280,
   "metadata": {},
   "outputs": [
    {
     "data": {
      "text/plain": [
       "18"
      ]
     },
     "execution_count": 280,
     "metadata": {},
     "output_type": "execute_result"
    }
   ],
   "source": [
    "ev1.remove_attendees = ['Anny', 'Ali', 'Pia']\n",
    "ev1.guest_count()"
   ]
  },
  {
   "cell_type": "code",
   "execution_count": 286,
   "metadata": {},
   "outputs": [
    {
     "name": "stdout",
     "output_type": "stream",
     "text": [
      "It is a private event.\n"
     ]
    }
   ],
   "source": [
    "ev2 = PrivateEvent('Holi', '14-3-2024', '10:00 a.m.', 'Maidan',['Rup', 'Raj', 'Rini', 'Priya', 'Anny', 'Ali', 'Pia', 'Puja', 'Aman', 'Raj', 'KD', 'Roop', 'Moh', 'Dan', 'Bunny', 'Ruks'])\n",
    "ev2.restrict_attendees()"
   ]
  },
  {
   "cell_type": "code",
   "execution_count": 287,
   "metadata": {},
   "outputs": [
    {
     "name": "stdout",
     "output_type": "stream",
     "text": [
      "Guest Count: 20\n"
     ]
    }
   ],
   "source": [
    "ev2.add_attendees = ['Rekha', 'Honey', 'Sup', 'Raju', 'Bittu']\n",
    "ev2.restrict_attendees()"
   ]
  },
  {
   "cell_type": "code",
   "execution_count": 302,
   "metadata": {},
   "outputs": [],
   "source": [
    "\"\"\"10.Write a code for Airline Reservation System using OOPS/\n",
    "+ Create a Flight class that has attributes such as flight number, departure and arrival airports, departure and\n",
    "arrival timese and available seats (private).\n",
    "+ Implement methods to book a seat, cancel a reservation, and get the remaining available seats.\n",
    "+ Use encapsulation to hide the flight's unique identification number.\n",
    "+ Inherit from the Flight class to create a DomesticFlight class and an InternationalFlight class, each with their\n",
    "own specific attributes and methods.\"\"\"\n",
    "\n",
    "class Flight:\n",
    "    def __init__(self, number, type, dept_port, arrv_port, dept_time, arrv_time, available_seats = [i for i in range(1, 251)], booked_seats = []):\n",
    "        self.number = number\n",
    "        self.type = type\n",
    "        self.dept_port = dept_port\n",
    "        self.arrv_port = arrv_port\n",
    "        self.dept_time = dept_time\n",
    "        self.arrv_time = arrv_time\n",
    "        self.__available_seats = available_seats\n",
    "        self.__booked_seats = booked_seats\n",
    "        self.__uin = \"FL\" + self.type[:3] + str(self.number)\n",
    "    @property\n",
    "    def get_available_seats(self):\n",
    "        return self.__available_seats\n",
    "    def seat_booking(self, passenger, seats_to_book):\n",
    "        for i in seats_to_book:\n",
    "            self.__available_seats.remove(i)\n",
    "        for i in seats_to_book:\n",
    "            self.__booked_seats.append(i)\n",
    "        for i in passenger:\n",
    "            print(f\"Name: {i}; Flight No: {self.number}; Seat no: {seats_to_book[passenger.index(i)]}.\")\n",
    "            print(f\"Time: From {self.dept_port} at {self.dept_time} to {self.arrv_port} at {self.arrv_time}.\")\n",
    "        \n",
    "    def cancel_reservation(self, seats_to_cancel):\n",
    "        for i in seats_to_cancel:\n",
    "            self.__available_seats.append(i)\n",
    "        for i in seats_to_cancel:\n",
    "            self.__booked_seats.remove(i)\n",
    "        print(f\"Your seat(s) have been cancelled.\")\n",
    "        \n",
    "class DomesticFlight(Flight):\n",
    "    def get_fare(self, seats_to_book):\n",
    "        print(f\"Please pay: {3600 * len(seats_to_book)}\")\n",
    "    def get_refund(self, seats_to_cancel):\n",
    "        print(f\"Refund: {2800 * len(seats_to_cancel)}\")\n",
    "class InternationalFlight(Flight):\n",
    "    def get_fare(self, seats_to_book):\n",
    "        print(f\"Please pay: {6000 * len(seats_to_book)}\")\n",
    "    def get_refund(self, seats_to_cancel):\n",
    "        print(f\"Refund: {4800 * len(seats_to_cancel)}\")\n",
    "        "
   ]
  },
  {
   "cell_type": "code",
   "execution_count": 305,
   "metadata": {},
   "outputs": [],
   "source": [
    "dom1 = DomesticFlight(14001, 'Domestic', 'Dumdum', 'Bagdogra', '29/7/2024--10:05 a.m.', '29/7/2024--11:50 a.m.')"
   ]
  },
  {
   "cell_type": "code",
   "execution_count": 316,
   "metadata": {},
   "outputs": [
    {
     "name": "stdout",
     "output_type": "stream",
     "text": [
      "Name: Rekha; Flight No: 14001; Seat no: 101.\n",
      "Time: From Dumdum at 29/7/2024--10:05 a.m. to Bagdogra at 29/7/2024--11:50 a.m..\n",
      "Name: Honey; Flight No: 14001; Seat no: 104.\n",
      "Time: From Dumdum at 29/7/2024--10:05 a.m. to Bagdogra at 29/7/2024--11:50 a.m..\n",
      "Name: Sup; Flight No: 14001; Seat no: 105.\n",
      "Time: From Dumdum at 29/7/2024--10:05 a.m. to Bagdogra at 29/7/2024--11:50 a.m..\n",
      "Name: Raju; Flight No: 14001; Seat no: 225.\n",
      "Time: From Dumdum at 29/7/2024--10:05 a.m. to Bagdogra at 29/7/2024--11:50 a.m..\n",
      "Name: Bittu; Flight No: 14001; Seat no: 226.\n",
      "Time: From Dumdum at 29/7/2024--10:05 a.m. to Bagdogra at 29/7/2024--11:50 a.m..\n",
      "Please pay: 18000\n"
     ]
    }
   ],
   "source": [
    "dom1.seat_booking(['Rekha', 'Honey', 'Sup', 'Raju', 'Bittu'], [101, 104, 105, 225, 226])\n",
    "dom1.get_fare([101, 104, 105, 225, 226])\n"
   ]
  },
  {
   "cell_type": "code",
   "execution_count": 317,
   "metadata": {},
   "outputs": [
    {
     "name": "stdout",
     "output_type": "stream",
     "text": [
      "Your seat(s) have been cancelled.\n",
      "Refund: 14000\n"
     ]
    }
   ],
   "source": [
    "dom1.cancel_reservation([101, 104, 105, 225, 226])\n",
    "dom1.get_refund([101, 104, 105, 225, 226])"
   ]
  },
  {
   "cell_type": "code",
   "execution_count": 8,
   "metadata": {},
   "outputs": [],
   "source": [
    "\"\"\"16. Write a Python program to create a text file named \"employees.txt\" and write the details of employees,\n",
    "including their name, age, and salary, into the file.\"\"\"\n",
    "\n",
    "with open (\"employees.txt\", 'w') as f1:\n",
    "    f1.write(\"\")\n",
    "    f1.close()\n",
    "def fill_details(name, age, salary):\n",
    "    with open (\"employees.txt\", 'a') as f2:\n",
    "        f2.write(f\"Employee name: {name}, Age: {age}, Salary: {salary} \\n\")\n",
    "        f2.close()\n",
    "def read_file():\n",
    "    with open (\"employees.txt\", 'r') as f3:\n",
    "        print(f3.read())\n",
    "        f3.close()\n",
    "    "
   ]
  },
  {
   "cell_type": "code",
   "execution_count": 9,
   "metadata": {},
   "outputs": [],
   "source": [
    "fill_details(\"Suman\", 35, 14000)\n",
    "fill_details(\"Raghav\", 42, 22000)\n",
    "fill_details(\"Zaman\", 39, 19000)"
   ]
  },
  {
   "cell_type": "code",
   "execution_count": 10,
   "metadata": {},
   "outputs": [
    {
     "name": "stdout",
     "output_type": "stream",
     "text": [
      "Employee name: Suman, Age: 35, Salary: 14000 \n",
      "Employee name: Raghav, Age: 42, Salary: 22000 \n",
      "Employee name: Zaman, Age: 39, Salary: 19000 \n",
      "\n"
     ]
    }
   ],
   "source": [
    "read_file()"
   ]
  },
  {
   "cell_type": "code",
   "execution_count": 20,
   "metadata": {},
   "outputs": [
    {
     "name": "stdout",
     "output_type": "stream",
     "text": [
      "There are five basic reasons for keeping an inventory:\n",
      "Time: The time lags present in the supply chain, from supplier to user at every stage, requires that you maintain certain amounts of inventory to use in this lead time. However, in practice, inventory is to be maintained for consumption during 'variations in lead time'. Lead time itself can be addressed by ordering that many days in advance.[5]\n",
      "Seasonal demand: Demands varies periodically, but producers capacity is fixed. This can lead to stock accumulation, consider for example how goods consumed only in holidays can lead to accumulation of large stocks on the anticipation of future consumption.\n",
      "Uncertainty: Inventories are maintained as buffers to meet uncertainties in demand, supply and movements of goods.\n",
      "Economies of scale: Ideal condition of \"one unit at a time at a place where a user needs it, when he needs it\" principle tends to incur lots of costs in terms of logistics. So bulk buying, movement and storing brings in economies of scale, thus inventory.\n",
      "Appreciation in value: In some situations, some stock gains the required value when it is kept for some time to allow it reach the desired standard for consumption, or for production. For example, beer in the brewing industry.\n",
      "All these stock reasons can apply to any owner or product\n"
     ]
    }
   ],
   "source": [
    "\"\"\"17. Develop a Python script that opens an existing text file named \"inventory.txt\" in read mode and displays\n",
    "the contents of the file line by line.\"\"\"\n",
    "\n",
    "with open (\"inventory.txt\", 'r') as f:\n",
    "    lines = f.readlines()\n",
    "    for i in lines:\n",
    "        print(i.strip())\n",
    "    f.close()"
   ]
  },
  {
   "cell_type": "code",
   "execution_count": 22,
   "metadata": {},
   "outputs": [],
   "source": [
    "\"\"\"18. Create a Python script that reads a text file named \"expenses.txt\" and calculates the total amount spent\n",
    "on various expenses listed in the file.\"\"\"\n",
    "\n",
    "exp = [\"Hdd: $2450 \\n\", \"Mainboard: $10460 \\n\", \"SMPS: $820 \\n\", \"Cables: $380 \\n\", \"Cabinet: $180\\n\", \"UPS: $2450 \\n\"]\n",
    "with open (\"expenses.txt\", 'w') as file:\n",
    "    file.writelines(exp)\n",
    "    file.close()\n",
    "with open (\"expenses.txt\", 'r') as f:\n",
    "    txt = f.read()"
   ]
  },
  {
   "cell_type": "code",
   "execution_count": 26,
   "metadata": {},
   "outputs": [
    {
     "name": "stdout",
     "output_type": "stream",
     "text": [
      "Total expense: $16740\n"
     ]
    }
   ],
   "source": [
    "words = txt.split()\n",
    "expense = 0\n",
    "for i in words:\n",
    "    if i[0] == '$':\n",
    "        expense += int(i[1:])\n",
    "print(f\"Total expense: ${expense}\")"
   ]
  },
  {
   "cell_type": "code",
   "execution_count": 27,
   "metadata": {},
   "outputs": [
    {
     "name": "stdout",
     "output_type": "stream",
     "text": [
      "either x 1\n",
      "comprising x 1\n",
      "wicket x 3\n",
      "bowling x 1\n",
      "or x 2\n",
      "field x 1\n",
      "places x 1\n",
      "bats, x 1\n",
      "run x 1\n",
      "Cricket x 1\n",
      "bowled x 2\n",
      "a x 4\n",
      "teams x 1\n",
      "illegally. x 1\n",
      "Two x 1\n",
      "bat x 1\n",
      "then x 1\n",
      "to x 1\n",
      "each x 3\n",
      "exchange. x 1\n",
      "bails x 1\n",
      "also x 1\n",
      "that x 1\n",
      "of x 5\n",
      "between x 1\n",
      "when x 2\n",
      "balanced x 1\n",
      "eleven x 1\n",
      "Runs x 1\n",
      "(the x 2\n",
      "switch x 1\n",
      "in x 1\n",
      "ball x 4\n",
      "towards x 1\n",
      "holding x 1\n",
      "bat-and-ball x 1\n",
      "with x 5\n",
      "fielding x 1\n",
      "for x 1\n",
      "pitch x 1\n",
      "nonstriker) x 1\n",
      "striker's x 2\n",
      "scored x 1\n",
      "end, x 1\n",
      "crosses x 1\n",
      "at x 2\n",
      "hit x 1\n",
      "played x 1\n",
      "reaches x 1\n",
      "are x 1\n",
      "stumps. x 1\n",
      "one x 2\n",
      "striker x 1\n",
      "centre x 1\n",
      "(20-metre) x 1\n",
      "game x 1\n",
      "opposite x 1\n",
      "end x 1\n",
      "players x 2\n",
      "field, x 1\n",
      "boundary x 1\n",
      "on x 2\n",
      "team x 3\n",
      "scoring x 1\n",
      "three x 1\n",
      "two x 2\n",
      "is x 5\n",
      "stand x 1\n",
      "from x 3\n",
      "batting x 2\n",
      "The x 1\n",
      "bowler) x 1\n",
      "player x 1\n",
      "front x 1\n",
      "22-yard x 1\n",
      "which x 1\n",
      "goal x 1\n",
      "nonstriker, x 1\n",
      "and x 2\n",
      "the x 15\n",
      "pitch. x 1\n"
     ]
    }
   ],
   "source": [
    "\"\"\"19. Create a Python program that reads a text file named \"paragraph.txt\" and counts the occurrences of\n",
    "each word in the paragraph, displaying the results in alphabetical order.\"\"\"\n",
    "\n",
    "with open (\"paragraph.txt\", 'r') as f:\n",
    "    txt = f.read()\n",
    "    f.close()\n",
    "words = txt.split()\n",
    "unique_words = set(words)\n",
    "for i in unique_words:\n",
    "    print(f\"{i} x {words.count(i)}\")"
   ]
  },
  {
   "cell_type": "code",
   "execution_count": 30,
   "metadata": {},
   "outputs": [
    {
     "name": "stdout",
     "output_type": "stream",
     "text": [
      "PearsonRResult(statistic=0.9031178882610627, pvalue=0.00034240975145233916)\n"
     ]
    }
   ],
   "source": [
    "\"\"\"24. Calculate coefficient of correlation between the marks obtained by 10 students in Accountancy and\n",
    "statistics. Use Karl Pearson's Coefficient of Correlation Method to find it.\"\"\"\n",
    "\n",
    "import pandas as pd\n",
    "from scipy.stats import pearsonr\n",
    "marks = pd.DataFrame({\n",
    "    'Student': [1, 2, 3, 4, 5, 6, 7, 8, 9, 10],\n",
    "    'Accountancy': [45, 70, 65, 30, 90, 40, 50, 75, 85, 60],\n",
    "    'Statistics': [35, 90, 70, 40, 95, 40, 60, 80, 80, 50]\n",
    "})\n",
    "print(pearsonr(marks['Accountancy'], marks['Statistics']))"
   ]
  },
  {
   "cell_type": "code",
   "execution_count": 33,
   "metadata": {},
   "outputs": [
    {
     "name": "stdout",
     "output_type": "stream",
     "text": [
      "population standard derivation is 10.5\n",
      "0.17954370572840775\n"
     ]
    }
   ],
   "source": [
    "\"\"\"35.A random sample of size 25 from a population gives the sample standard derivation to be 9.0. Test the\n",
    "hypothesis that the population standard derivation is 10.5.\n",
    "Hint(Use chi-square distribution).\"\"\"\n",
    "\n",
    "std0 = 10.5\n",
    "std1 = 9\n",
    "n = 25\n",
    "chi = ((n-1)/ (std0**2)) * (std1 ** 2)\n",
    "from scipy.stats import chi2\n",
    "p = chi2.cdf(chi, df= n-1)\n",
    "if p <= 0.05:\n",
    "    print(\"population standard derivation is less than 10.5\")\n",
    "else:\n",
    "    print(\"population standard derivation is 10.5\")\n",
    "print(p)"
   ]
  },
  {
   "cell_type": "code",
   "execution_count": 36,
   "metadata": {},
   "outputs": [
    {
     "name": "stdout",
     "output_type": "stream",
     "text": [
      "population standard derivation is uniform\n",
      "0.8967932782738708\n"
     ]
    }
   ],
   "source": [
    "\"\"\"37.100 students of a PW IOI obtained the following grades in Data Science paper :\n",
    "Grade :[A, B, C, D, E]\n",
    "Total Frequency :[15, 17, 30, 22, 16]\n",
    "Using the χ 2 test , examine the hypothesis that the distribution of grades is uniform.\"\"\"\n",
    "\n",
    "Total_Frequency = [15, 17, 30, 22, 16]\n",
    "n = 0\n",
    "for i in Total_Frequency:\n",
    "    n += i\n",
    "k = len(Total_Frequency)\n",
    "freq_m = n / k\n",
    "chi = 0\n",
    "for i in Total_Frequency:\n",
    "    chi += ((i - freq_m) ** 2) / freq_m\n",
    "from scipy.stats import chi2\n",
    "p = chi2.cdf(chi, df= k-1)\n",
    "if p <= 0.05:\n",
    "    print(\"population standard derivation is not uniform\")\n",
    "else:\n",
    "    print(\"population standard derivation is uniform\")\n",
    "print(p)\n"
   ]
  },
  {
   "cell_type": "code",
   "execution_count": 38,
   "metadata": {},
   "outputs": [
    {
     "name": "stdout",
     "output_type": "stream",
     "text": [
      "P value:  0.02918589502743675\n",
      "There is a significant difference in detergents performence.\n"
     ]
    }
   ],
   "source": [
    "\"\"\"38.Anova Test:\"\"\"\n",
    "import pandas as pd\n",
    "df = pd. DataFrame({\n",
    "    'Detergent_A': [57, 49, 54],\n",
    "    'Detergent_B': [55, 52, 46],\n",
    "    'Detergent_C': [67, 68, 58]\n",
    "}, index= ['Cold_water', 'Warm_water', 'Hot_water'])\n",
    "from scipy.stats import f_oneway\n",
    "stat, p_val = f_oneway(df['Detergent_A'], df['Detergent_B'], df['Detergent_C'])\n",
    "alp = 0.05\n",
    "print(\"P value: \", p_val)\n",
    "if p_val <= alp:\n",
    "    print('There is a significant difference in detergents performence.')\n",
    "else:\n",
    "    print('There is no significant difference in detergents performence.')"
   ]
  }
 ],
 "metadata": {
  "kernelspec": {
   "display_name": "Python 3",
   "language": "python",
   "name": "python3"
  },
  "language_info": {
   "codemirror_mode": {
    "name": "ipython",
    "version": 3
   },
   "file_extension": ".py",
   "mimetype": "text/x-python",
   "name": "python",
   "nbconvert_exporter": "python",
   "pygments_lexer": "ipython3",
   "version": "3.12.2"
  }
 },
 "nbformat": 4,
 "nbformat_minor": 2
}
